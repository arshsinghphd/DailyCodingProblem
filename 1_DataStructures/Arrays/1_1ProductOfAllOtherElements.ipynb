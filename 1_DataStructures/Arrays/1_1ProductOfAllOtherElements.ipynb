{
 "cells": [
  {
   "cell_type": "markdown",
   "id": "6904f3f3",
   "metadata": {},
   "source": [
    "# Problem Statement\n",
    "\n",
    "#### Given: \n",
    "An array of integers \n",
    "\n",
    "#### Return: \n",
    "An array such that at each index, the number is the  product of all the elements of the given array, other than the one in the index.\n",
    "\n",
    "#### Example:\n",
    "arr = [1, 2, 3, 4, 5]\n",
    "\n",
    "expected output: [120, 60, 40, 30, 24] \n",
    "\n",
    "[2 X 3 X 4 X 5, 1 X 3 X 4 X 5, 1 X 2 X 4 X 5, 1 X 2 X 3 X 5, 1 X 2 X 3 X 4]\n",
    "\n",
    "\n"
   ]
  },
  {
   "cell_type": "code",
   "execution_count": 1,
   "id": "2b2b7c56",
   "metadata": {},
   "outputs": [],
   "source": [
    "def productAllOtherElements(arr):  # O(n) \n",
    "    product = 1\n",
    "    n = 0\n",
    "    for el in arr:\n",
    "        n += 1\n",
    "        product *= el\n",
    "    \n",
    "    ret_arr = [product] * n\n",
    "    for i in range(n):\n",
    "        ret_arr[i] = ret_arr[i] // arr[i]\n",
    "        \n",
    "    return ret_arr"
   ]
  },
  {
   "cell_type": "code",
   "execution_count": 2,
   "id": "ff2e50ab",
   "metadata": {},
   "outputs": [],
   "source": [
    "arr = [1, 2, 3, 4, 5]"
   ]
  },
  {
   "cell_type": "code",
   "execution_count": 3,
   "id": "988ea307",
   "metadata": {
    "scrolled": true
   },
   "outputs": [
    {
     "name": "stdout",
     "output_type": "stream",
     "text": [
      "[120, 60, 40, 30, 24]\n"
     ]
    }
   ],
   "source": [
    "print(productAllOtherElements(arr)) "
   ]
  },
  {
   "cell_type": "markdown",
   "id": "a4d1ab9e",
   "metadata": {},
   "source": [
    "# Follow up: division is not allowed"
   ]
  },
  {
   "cell_type": "code",
   "execution_count": 4,
   "id": "b1846b1c",
   "metadata": {},
   "outputs": [],
   "source": [
    "def productAllOtherElementsNoDiv(arr):   # O(n^2)\n",
    "    n = len(arr)\n",
    "    ret_arr = [0] * n\n",
    "    for i in range(n):\n",
    "        pr = 1\n",
    "        for j in range(n):\n",
    "            if i != j:\n",
    "                pr *= arr[j]\n",
    "        ret_arr[i] = pr\n",
    "    return ret_arr"
   ]
  },
  {
   "cell_type": "code",
   "execution_count": 5,
   "id": "f66f3fbb",
   "metadata": {},
   "outputs": [],
   "source": [
    "arr = [1, 2, 3, 4, 5]"
   ]
  },
  {
   "cell_type": "code",
   "execution_count": 6,
   "id": "7e843d70",
   "metadata": {},
   "outputs": [
    {
     "name": "stdout",
     "output_type": "stream",
     "text": [
      "[120, 60, 40, 30, 24]\n"
     ]
    }
   ],
   "source": [
    "print(productAllOtherElementsNoDiv(arr))"
   ]
  },
  {
   "cell_type": "markdown",
   "id": "5752b1b5",
   "metadata": {},
   "source": [
    "O(n) solution if division is not allowed"
   ]
  },
  {
   "cell_type": "code",
   "execution_count": 7,
   "id": "d75cb13b",
   "metadata": {},
   "outputs": [],
   "source": [
    "def productAllOtherElementsNoDiv(arr):\n",
    "    pref_products = []\n",
    "    for el in arr:\n",
    "        if pre_products:\n",
    "            pre_products.append(pre_products[-1] * el)\n",
    "        else:\n",
    "            pre_products.append(el)\n",
    "    \n",
    "    suff_products = []\n",
    "    for el in reversed(arr):\n",
    "        if suff_products:\n",
    "            suff_products.append(suff_products[-1] * el)\n",
    "        else:\n",
    "            suff_products.append(el)\n",
    "    \n",
    "    for i in range(len(arr)):\n",
    "        "
   ]
  }
 ],
 "metadata": {
  "kernelspec": {
   "display_name": "Python 3 (ipykernel)",
   "language": "python",
   "name": "python3"
  },
  "language_info": {
   "codemirror_mode": {
    "name": "ipython",
    "version": 3
   },
   "file_extension": ".py",
   "mimetype": "text/x-python",
   "name": "python",
   "nbconvert_exporter": "python",
   "pygments_lexer": "ipython3",
   "version": "3.7.4"
  }
 },
 "nbformat": 4,
 "nbformat_minor": 5
}
