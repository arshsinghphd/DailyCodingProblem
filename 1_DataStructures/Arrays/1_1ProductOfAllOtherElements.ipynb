{
 "cells": [
  {
   "cell_type": "markdown",
   "id": "1c2e2295",
   "metadata": {},
   "source": [
    "# Problem Statement\n",
    "\n",
    "#### Given: \n",
    "An array of integers \n",
    "\n",
    "#### Return: \n",
    "An array such that at each index, the number is the  product of all the elements of the given array, other than the one in the index.\n",
    "\n",
    "#### Example:\n",
    "arr=[1, 2, 3, 4, 5]\n",
    "\n",
    "expected output: [120, 60, 40, 30, 24] \n",
    "\n",
    "[2X3X4X5 , 1X3X4X5, 1X2X4X5, 1X2X3X5, 1X2X3X4]\n",
    "\n",
    "\n"
   ]
  },
  {
   "cell_type": "code",
   "execution_count": 1,
   "id": "ada77b3c",
   "metadata": {},
   "outputs": [],
   "source": [
    "def productAllOtherElements(arr):  # O(n) \n",
    "    product = 1\n",
    "    n=0\n",
    "    for el in arr:\n",
    "        n+=1\n",
    "        product *= el\n",
    "    \n",
    "    ret_arr=[product]*n\n",
    "    for i in range(n):\n",
    "        ret_arr[i]=ret_arr[i]//arr[i]\n",
    "        \n",
    "    return ret_arr"
   ]
  },
  {
   "cell_type": "code",
   "execution_count": 2,
   "id": "9c61cfe2",
   "metadata": {},
   "outputs": [],
   "source": [
    "arr=[1, 2, 3, 4, 5]"
   ]
  },
  {
   "cell_type": "code",
   "execution_count": 3,
   "id": "57618ee0",
   "metadata": {
    "scrolled": true
   },
   "outputs": [
    {
     "name": "stdout",
     "output_type": "stream",
     "text": [
      "[120, 60, 40, 30, 24]\n"
     ]
    }
   ],
   "source": [
    "print(productAllOtherElements(arr))"
   ]
  },
  {
   "cell_type": "markdown",
   "id": "cd6891aa",
   "metadata": {},
   "source": [
    "# Follow up: division is not allowed"
   ]
  },
  {
   "cell_type": "code",
   "execution_count": 4,
   "id": "67b6dd0b",
   "metadata": {},
   "outputs": [],
   "source": [
    "def productAllOtherElementsNoDiv(arr):   # O(n^2)\n",
    "    n=len(arr)\n",
    "    ret_arr=[0]*n\n",
    "    for i in range(n):\n",
    "        pr = 1\n",
    "        for j in range(n):\n",
    "            if i != j:\n",
    "                pr *= arr[j]\n",
    "        ret_arr[i]=pr\n",
    "    return ret_arr"
   ]
  },
  {
   "cell_type": "code",
   "execution_count": 5,
   "id": "4c89ef15",
   "metadata": {},
   "outputs": [],
   "source": [
    "arr=[1, 2, 3, 4, 5]"
   ]
  },
  {
   "cell_type": "code",
   "execution_count": 6,
   "id": "ea72209b",
   "metadata": {},
   "outputs": [
    {
     "name": "stdout",
     "output_type": "stream",
     "text": [
      "[120, 60, 40, 30, 24]\n"
     ]
    }
   ],
   "source": [
    "print(productAllOtherElementsNoDiv(arr))"
   ]
  }
 ],
 "metadata": {
  "kernelspec": {
   "display_name": "Python 3 (ipykernel)",
   "language": "python",
   "name": "python3"
  },
  "language_info": {
   "codemirror_mode": {
    "name": "ipython",
    "version": 3
   },
   "file_extension": ".py",
   "mimetype": "text/x-python",
   "name": "python",
   "nbconvert_exporter": "python",
   "pygments_lexer": "ipython3",
   "version": "3.7.4"
  }
 },
 "nbformat": 4,
 "nbformat_minor": 5
}
