{
 "cells": [
  {
   "cell_type": "markdown",
   "id": "bc2ed674",
   "metadata": {},
   "source": [
    "# Problem Statement\n",
    "\n",
    "#### Given: \n",
    "An array of integers \n",
    "\n",
    "#### Return: \n",
    "An array such that at each index, the number is the  product of all the elements of the given array, other than the one in the index.\n",
    "\n",
    "#### Example:\n",
    "arr=[1, 2, 3, 4, 5]\n",
    "\n",
    "expected output: [120, 60, 40, 24] \n",
    "\n",
    "[2X3X4X5 , 1X3X4X5, 1X2X4X5, 1X2X3X5, 1X2X3X4]\n",
    "\n",
    "\n"
   ]
  },
  {
   "cell_type": "code",
   "execution_count": null,
   "id": "8b7b8532",
   "metadata": {},
   "outputs": [],
   "source": [
    "def productAllOtherElements(arr):\n",
    "    product = 1\n",
    "    len_arr=0\n",
    "    for el in arr:\n",
    "        len_arr+=1\n",
    "        product *= el\n",
    "    \n",
    "    ret_arr=[product]*len_arr\n",
    "    for i in range(len_arr):\n",
    "        ret_arr[i]=ret_arr[i]/arr[i]\n",
    "        \n",
    "    return ret_arr"
   ]
  }
 ],
 "metadata": {
  "kernelspec": {
   "display_name": "Python 3 (ipykernel)",
   "language": "python",
   "name": "python3"
  },
  "language_info": {
   "codemirror_mode": {
    "name": "ipython",
    "version": 3
   },
   "file_extension": ".py",
   "mimetype": "text/x-python",
   "name": "python",
   "nbconvert_exporter": "python",
   "pygments_lexer": "ipython3",
   "version": "3.7.4"
  }
 },
 "nbformat": 4,
 "nbformat_minor": 5
}
